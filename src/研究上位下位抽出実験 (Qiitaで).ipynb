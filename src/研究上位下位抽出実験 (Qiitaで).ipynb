{
 "cells": [
  {
   "cell_type": "code",
   "execution_count": 12,
   "metadata": {
    "ExecuteTime": {
     "end_time": "2020-01-13T07:49:40.352170Z",
     "start_time": "2020-01-13T07:49:40.339025Z"
    }
   },
   "outputs": [],
   "source": [
    "import json\n",
    "import csv\n",
    "from tqdm import tqdm_notebook as tqdm"
   ]
  },
  {
   "cell_type": "code",
   "execution_count": 16,
   "metadata": {
    "ExecuteTime": {
     "end_time": "2020-01-13T07:49:53.718167Z",
     "start_time": "2020-01-13T07:49:53.712916Z"
    }
   },
   "outputs": [],
   "source": [
    "words = []\n",
    "dataset = []\n",
    "with open(\"../datasets/dataset.csv\", \"r\") as f:\n",
    "    tags = csv.reader(f)\n",
    "    header = next(tags)\n",
    "    \n",
    "    for t in tags:\n",
    "        words += t\n",
    "        dataset += [t]"
   ]
  },
  {
   "cell_type": "code",
   "execution_count": 6,
   "metadata": {
    "ExecuteTime": {
     "end_time": "2020-01-09T12:23:47.012687Z",
     "start_time": "2020-01-09T12:23:47.007895Z"
    }
   },
   "outputs": [
    {
     "data": {
      "text/plain": [
       "66"
      ]
     },
     "execution_count": 6,
     "metadata": {},
     "output_type": "execute_result"
    }
   ],
   "source": [
    "len(set(words))"
   ]
  },
  {
   "cell_type": "code",
   "execution_count": 13,
   "metadata": {
    "ExecuteTime": {
     "end_time": "2020-01-13T07:49:42.164283Z",
     "start_time": "2020-01-13T07:49:41.961264Z"
    }
   },
   "outputs": [],
   "source": [
    "from selenium import webdriver\n",
    "from selenium.webdriver.chrome.options import Options\n",
    "from bs4 import BeautifulSoup\n",
    "import re\n",
    "import time"
   ]
  },
  {
   "cell_type": "code",
   "execution_count": 10,
   "metadata": {
    "ExecuteTime": {
     "end_time": "2020-01-13T07:48:33.843796Z",
     "start_time": "2020-01-13T07:48:33.840728Z"
    }
   },
   "outputs": [],
   "source": [
    "# バージョンを表すテキストを削除\n",
    "def eraseVersion(w):\n",
    "    w = re.sub('(\\d+(?:\\.\\d+)?)$', '', w)\n",
    "    return w"
   ]
  },
  {
   "cell_type": "code",
   "execution_count": 77,
   "metadata": {
    "ExecuteTime": {
     "end_time": "2020-01-10T07:07:21.721285Z",
     "start_time": "2020-01-10T07:07:21.716959Z"
    }
   },
   "outputs": [],
   "source": [
    "# Qiitaからタグ検索\n",
    "def tagSearch(w, page=\"1\"):\n",
    "    print(\"tag:{} Search...page{}\".format(w, page))\n",
    "    options = Options()\n",
    "    options.add_argument('--headless')\n",
    "    driver = webdriver.Chrome(chrome_options=options)\n",
    "    driver.get('https://qiita.com/search?page='+ page +'&sort=like&q=tag%3A' + w)\n",
    "    data = driver.page_source\n",
    "    html = BeautifulSoup(data, 'lxml')\n",
    "    driver.close()\n",
    "    driver.quit()\n",
    "    return html"
   ]
  },
  {
   "cell_type": "code",
   "execution_count": 8,
   "metadata": {
    "ExecuteTime": {
     "end_time": "2020-01-09T12:48:46.006062Z",
     "start_time": "2020-01-09T12:23:51.292958Z"
    },
    "scrolled": true
   },
   "outputs": [
    {
     "data": {
      "application/vnd.jupyter.widget-view+json": {
       "model_id": "4e39fb3f42f2406db5d34e4e377e89f3",
       "version_major": 2,
       "version_minor": 0
      },
      "text/plain": [
       "HBox(children=(IntProgress(value=0, max=66), HTML(value='')))"
      ]
     },
     "metadata": {},
     "output_type": "display_data"
    },
    {
     "name": "stdout",
     "output_type": "stream",
     "text": [
      "\n"
     ]
    }
   ],
   "source": [
    "res_d = dict()\n",
    "\n",
    "for w in tqdm(set(words)):\n",
    "    res = []\n",
    "    for p in range(1,6):\n",
    "        for i in tagSearch(w, page=str(p)).find_all(class_=\"tagList\"):\n",
    "            res += [[j.text.lower() for j in i.find_all(\"a\")]]\n",
    "        time.sleep(0.5)\n",
    "    \n",
    "    res_d[w] = res"
   ]
  },
  {
   "cell_type": "code",
   "execution_count": 9,
   "metadata": {
    "ExecuteTime": {
     "end_time": "2020-01-10T02:03:10.651967Z",
     "start_time": "2020-01-10T02:03:10.636223Z"
    },
    "scrolled": true
   },
   "outputs": [
    {
     "data": {
      "text/plain": [
       "dict_keys(['rbenv', 'html', 'kivy', 'next.js', 'javascript', 'npm', 'rstudio', 'scikit-learn', 'nuxt.js', 'jupyter', 'webgl', 'coffeescript', 'pyenv', 'tkinter', 'scipy', 'typescript', 'flask', 'reactnative', 'spring', 'rails', 'redux', 'scss', 'angular', 'backbone.js', 'javafx', 'php', 'numpy', 'symfony', 'd3.js', 'ajax', 'css', 'pyqt', 'chainer', 'django', 'bootstrap', 'eslint', 'vuex', 'yarn', 'node.js', 'chrome-extension', 'ecmascript', 'r', 'beautifulsoup', 'babel', 'jquery', 'three.js', 'vuetify', 'mruby', 'python', 'promise', 'phina.js', 'vue.js', 'pytorch', 'webpack', 'sass', 'electron', 'react', 'capybara', 'keras', 'canvas', 'cakephp', 'java', 'laravel', 'rspec', 'pip', 'ruby'])"
      ]
     },
     "execution_count": 9,
     "metadata": {},
     "output_type": "execute_result"
    }
   ],
   "source": [
    "res_d.keys()"
   ]
  },
  {
   "cell_type": "code",
   "execution_count": 3,
   "metadata": {
    "ExecuteTime": {
     "end_time": "2020-01-13T07:48:10.256082Z",
     "start_time": "2020-01-13T07:48:10.225328Z"
    }
   },
   "outputs": [],
   "source": [
    "with open('qiita_results_data.json', 'w') as f:\n",
    "    json.dump(res_d, f)"
   ]
  },
  {
   "cell_type": "code",
   "execution_count": 4,
   "metadata": {
    "ExecuteTime": {
     "end_time": "2020-01-13T07:48:15.027860Z",
     "start_time": "2020-01-13T07:48:15.019511Z"
    }
   },
   "outputs": [],
   "source": [
    "with open('qiita_results_data.json', 'r') as f:\n",
    "    read_res_d = json.load(f)"
   ]
  },
  {
   "cell_type": "code",
   "execution_count": 5,
   "metadata": {
    "ExecuteTime": {
     "end_time": "2020-01-13T07:48:15.317891Z",
     "start_time": "2020-01-13T07:48:15.305108Z"
    }
   },
   "outputs": [
    {
     "data": {
      "text/plain": [
       "dict_keys(['tkinter', 'electron', 'npm', 'symfony', 'ecmascript', 'laravel', 'scss', 'php', 'angular', 'css', 'typescript', 'html', 'rbenv', 'eslint', 'r', 'ajax', 'vue.js', 'backbone.js', 'bootstrap', 'cakephp', 'phina.js', 'capybara', 'chrome-extension', 'promise', 'reactnative', 'spring', 'yarn', 'chainer', 'scikit-learn', 'beautifulsoup', 'sass', 'three.js', 'pyenv', 'vuex', 'flask', 'babel', 'jupyter', 'rails', 'react', 'rstudio', 'pip', 'next.js', 'd3.js', 'webpack', 'numpy', 'rspec', 'django', 'keras', 'scipy', 'ruby', 'pytorch', 'canvas', 'mruby', 'node.js', 'jquery', 'python', 'vuetify', 'kivy', 'java', 'javascript', 'javafx', 'coffeescript', 'nuxt.js', 'redux', 'pyqt', 'webgl'])"
      ]
     },
     "execution_count": 5,
     "metadata": {},
     "output_type": "execute_result"
    }
   ],
   "source": [
    "read_res_d.keys()"
   ]
  },
  {
   "cell_type": "code",
   "execution_count": 6,
   "metadata": {
    "ExecuteTime": {
     "end_time": "2020-01-13T07:48:16.918968Z",
     "start_time": "2020-01-13T07:48:16.909536Z"
    },
    "scrolled": true
   },
   "outputs": [
    {
     "data": {
      "text/plain": [
       "[['react', 'jquery'],\n",
       " ['virtualdom', 'adventcalendar', 'javascript', 'react'],\n",
       " ['react', 'redux', 'javascript', 'redux-saga'],\n",
       " ['javascript', 'react', 'angular'],\n",
       " ['react'],\n",
       " ['react', 'css', 'materialdesign', 'ui'],\n",
       " ['フロントエンド', 'javascript', 'react', 'プログラミング', 'ソフトウェア開発'],\n",
       " ['javascript', 'react'],\n",
       " ['react', 'redux', 'material-ui', 'react-router', 'spa'],\n",
       " ['vue.js', 'javascript', 'react'],\n",
       " ['swift', 'android', 'javascript', 'rails', 'react'],\n",
       " ['react', 'redux', 'react-redux', '新人プログラマ応援'],\n",
       " ['vue.js', 'react', 'angular2', 'elm', 'architecture'],\n",
       " ['javascript', 'react'],\n",
       " ['redux', 'redux-saga', 'react'],\n",
       " ['javascript', 'es6', 'node.js', 'react', 'angular'],\n",
       " ['riot', 'javascript', 'react', 'angular'],\n",
       " ['javascript', 'redux', 'react'],\n",
       " ['react', 'jquery', 'kotlin', '日本語訳', 'vue.js'],\n",
       " ['react', 'babel', 'webpack'],\n",
       " ['javascript', 'jest', 'react'],\n",
       " ['react'],\n",
       " ['react'],\n",
       " ['react', 'javascript', 'react16', 'webpack', 'webpack4'],\n",
       " ['javascript', 'riot', 'vue.js', 'react', 'angular'],\n",
       " ['react', 'redux', 'javascript', 'github'],\n",
       " ['electron', 'babel', 'gulp', 'javascript', 'react'],\n",
       " ['javascript', 'es2015', 'es6', 'react'],\n",
       " ['javascript', 'プログラミング', 'web', 'ライブラリ', 'react'],\n",
       " ['react'],\n",
       " ['javascript', 'react', 'docker', 'crowi', 'growi'],\n",
       " ['react', 'firebase', 'googleappsscript', 'javascript', 'フロントエンド'],\n",
       " ['es6', 'javascript', 'react'],\n",
       " ['javascript', 'html5', 'css3', 'react'],\n",
       " ['firebase', 'react', 'web', 'javascript', 'angular'],\n",
       " ['javascript', 'react'],\n",
       " ['javascript', 'riot', 'react'],\n",
       " ['graphql', 'javascript', 'apollo', 'react'],\n",
       " ['react'],\n",
       " ['rails', 'react-rails', 'react'],\n",
       " ['react'],\n",
       " ['react', 'webpack', 'babel'],\n",
       " ['javascript', 'npm', 'npx', 'react', 'node.js'],\n",
       " ['react', 'webサービス', '個人開発', 'チーム開発', '初心者'],\n",
       " ['javascript', 'ポエム', 'react'],\n",
       " ['react', 'vue.js', 'svelte', 'frontend', 'javascript'],\n",
       " ['クソアプリ', 'webアプリケーション', 'react'],\n",
       " ['react', 'jsx', 'javascript'],\n",
       " ['キャリア', '英語', 'javascript', 'react'],\n",
       " ['transform', 'typescript', 'react']]"
      ]
     },
     "execution_count": 6,
     "metadata": {},
     "output_type": "execute_result"
    }
   ],
   "source": [
    "read_res_d[\"react\"]"
   ]
  },
  {
   "cell_type": "code",
   "execution_count": null,
   "metadata": {
    "ExecuteTime": {
     "end_time": "2020-01-10T02:05:20.479716Z",
     "start_time": "2020-01-10T02:05:20.474818Z"
    }
   },
   "outputs": [],
   "source": []
  },
  {
   "cell_type": "code",
   "execution_count": 7,
   "metadata": {
    "ExecuteTime": {
     "end_time": "2020-01-13T07:48:18.750208Z",
     "start_time": "2020-01-13T07:48:18.745001Z"
    }
   },
   "outputs": [],
   "source": [
    "# w2に対するw1のスコアを返す\n",
    "def check(w1, w2):\n",
    "    w1 = w1.lower()\n",
    "    w2 = w2.lower()\n",
    "    res = []\n",
    "    score = 0\n",
    "    count = 0\n",
    "        \n",
    "    # w1で検索した際にw2が含まれていたら1 それ以外は0\n",
    "    for i in read_res_d[w1]:\n",
    "        res += [[eraseVersion(j.lower())==w2 for j in i].count(True)]\n",
    "        count += 1\n",
    "    time.sleep(0.1)\n",
    "\n",
    "    # 検索結果が存在しない場合スコア0を返す\n",
    "    if len(res) == 0:\n",
    "        return 0\n",
    "\n",
    "    # w1で検索した時にw2が含まれる割合\n",
    "    score += ((len(res)-res.count(0))+1e-7)/(len(res)+1e-7)\n",
    "\n",
    "    # 1つのページの出現率が30%以下ならスコア0を返す\n",
    "    #if score/p < 0.2:\n",
    "    #    return 0\n",
    "    \n",
    "    #print(len(res)-res.count(0))\n",
    "        \n",
    "    return round(score, 3)"
   ]
  },
  {
   "cell_type": "code",
   "execution_count": 18,
   "metadata": {
    "ExecuteTime": {
     "end_time": "2020-01-13T12:21:24.931515Z",
     "start_time": "2020-01-13T12:21:24.925448Z"
    }
   },
   "outputs": [],
   "source": [
    "# 2つの単語を比較\n",
    "def comparisonCheck(w1, w2, boundary=0.2, p=True):\n",
    "    w1_score = check(w1, w2)\n",
    "    w1, w2 = w2, w1\n",
    "    w2_score = check(w1, w2)\n",
    "    w1, w2 = w2, w1\n",
    "    \n",
    "    if p:\n",
    "        print(w1, \"Dscore:\", w1_score)\n",
    "        print(w2, \"Dscore:\", w2_score)\n",
    "        \n",
    "    if (w1_score < boundary and w2_score < boundary) or (abs(w1_score-w2_score) < 0.1):\n",
    "        if p:\n",
    "            print(w1, \"and\", w2, \"are irrelevant\")\n",
    "        return {}\n",
    "    else:\n",
    "        if w1_score < w2_score:\n",
    "            if p:\n",
    "                print(\">>\", w1, \"is easy!\")\n",
    "            return {\"easy\": w1, \"hard\": w2, \"score\": max(w1_score, w2_score)}\n",
    "        else:\n",
    "            if p:\n",
    "                print(\">>\", w2, \"is easy!\")\n",
    "            return {\"easy\": w2, \"hard\": w1, \"score\": max(w1_score, w2_score)}"
   ]
  },
  {
   "cell_type": "code",
   "execution_count": 19,
   "metadata": {
    "ExecuteTime": {
     "end_time": "2020-01-13T12:21:26.496296Z",
     "start_time": "2020-01-13T12:21:26.281299Z"
    }
   },
   "outputs": [
    {
     "name": "stdout",
     "output_type": "stream",
     "text": [
      "javascript Dscore: 0.08\n",
      "react Dscore: 0.62\n",
      ">> javascript is easy!\n"
     ]
    },
    {
     "data": {
      "text/plain": [
       "{'easy': 'javascript', 'hard': 'react', 'score': 0.62}"
      ]
     },
     "execution_count": 19,
     "metadata": {},
     "output_type": "execute_result"
    }
   ],
   "source": [
    "comparisonCheck(\"javascript\", \"react\")"
   ]
  },
  {
   "cell_type": "code",
   "execution_count": 68,
   "metadata": {
    "ExecuteTime": {
     "end_time": "2020-01-10T06:10:06.249828Z",
     "start_time": "2020-01-10T06:10:06.245446Z"
    }
   },
   "outputs": [
    {
     "data": {
      "text/plain": [
       "60"
      ]
     },
     "execution_count": 68,
     "metadata": {},
     "output_type": "execute_result"
    }
   ],
   "source": [
    "len(dataset)"
   ]
  },
  {
   "cell_type": "code",
   "execution_count": 21,
   "metadata": {
    "ExecuteTime": {
     "end_time": "2020-01-26T11:38:39.250407Z",
     "start_time": "2020-01-26T11:38:26.590373Z"
    },
    "scrolled": true
   },
   "outputs": [
    {
     "data": {
      "application/vnd.jupyter.widget-view+json": {
       "model_id": "ae36a0e00c9144109bd2858f134fec11",
       "version_major": 2,
       "version_minor": 0
      },
      "text/plain": [
       "HBox(children=(IntProgress(value=0, max=60), HTML(value='')))"
      ]
     },
     "metadata": {},
     "output_type": "display_data"
    },
    {
     "name": "stdout",
     "output_type": "stream",
     "text": [
      "['html', 'electron']\n",
      "['html', 'css']\n",
      "\n",
      "0.9666666666666667\n"
     ]
    }
   ],
   "source": [
    "correct = 0\n",
    "check_res = []\n",
    "\n",
    "for ds in tqdm(dataset):\n",
    "    \n",
    "    cr = comparisonCheck(ds[0], ds[1], p=False)\n",
    "    if cr:\n",
    "        if [cr[\"easy\"], cr[\"hard\"]] == [ds[0], ds[1]]:\n",
    "            correct += 1\n",
    "        else:\n",
    "            print([ds[0], ds[1]])\n",
    "    else:\n",
    "        print([ds[0], ds[1]])\n",
    "            \n",
    "print(correct/len(dataset))"
   ]
  },
  {
   "cell_type": "code",
   "execution_count": null,
   "metadata": {},
   "outputs": [],
   "source": []
  }
 ],
 "metadata": {
  "kernelspec": {
   "display_name": "Python 3",
   "language": "python",
   "name": "python3"
  },
  "language_info": {
   "codemirror_mode": {
    "name": "ipython",
    "version": 3
   },
   "file_extension": ".py",
   "mimetype": "text/x-python",
   "name": "python",
   "nbconvert_exporter": "python",
   "pygments_lexer": "ipython3",
   "version": "3.5.6"
  },
  "toc": {
   "base_numbering": 1,
   "nav_menu": {},
   "number_sections": true,
   "sideBar": true,
   "skip_h1_title": false,
   "title_cell": "Table of Contents",
   "title_sidebar": "Contents",
   "toc_cell": false,
   "toc_position": {},
   "toc_section_display": true,
   "toc_window_display": false
  },
  "varInspector": {
   "cols": {
    "lenName": 16,
    "lenType": 16,
    "lenVar": 40
   },
   "kernels_config": {
    "python": {
     "delete_cmd_postfix": "",
     "delete_cmd_prefix": "del ",
     "library": "var_list.py",
     "varRefreshCmd": "print(var_dic_list())"
    },
    "r": {
     "delete_cmd_postfix": ") ",
     "delete_cmd_prefix": "rm(",
     "library": "var_list.r",
     "varRefreshCmd": "cat(var_dic_list()) "
    }
   },
   "types_to_exclude": [
    "module",
    "function",
    "builtin_function_or_method",
    "instance",
    "_Feature"
   ],
   "window_display": false
  }
 },
 "nbformat": 4,
 "nbformat_minor": 2
}
