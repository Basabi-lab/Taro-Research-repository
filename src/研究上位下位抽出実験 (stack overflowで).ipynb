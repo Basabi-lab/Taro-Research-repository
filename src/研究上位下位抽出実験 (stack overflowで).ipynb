{
 "cells": [
  {
   "cell_type": "code",
   "execution_count": 1,
   "metadata": {
    "ExecuteTime": {
     "end_time": "2020-01-13T08:40:32.242804Z",
     "start_time": "2020-01-13T08:40:32.092345Z"
    }
   },
   "outputs": [],
   "source": [
    "import json\n",
    "import csv\n",
    "from tqdm import tqdm_notebook as tqdm\n",
    "from selenium import webdriver\n",
    "from selenium.webdriver.chrome.options import Options\n",
    "from bs4 import BeautifulSoup\n",
    "import re\n",
    "import time"
   ]
  },
  {
   "cell_type": "code",
   "execution_count": 2,
   "metadata": {
    "ExecuteTime": {
     "end_time": "2020-01-13T08:40:57.527762Z",
     "start_time": "2020-01-13T08:40:57.523210Z"
    }
   },
   "outputs": [],
   "source": [
    "words = []\n",
    "dataset = []\n",
    "with open(\"../datasets/dataset.csv\", \"r\") as f:\n",
    "    tags = csv.reader(f)\n",
    "    header = next(tags)\n",
    "    \n",
    "    for t in tags:\n",
    "        words += t\n",
    "        dataset += [t]"
   ]
  },
  {
   "cell_type": "code",
   "execution_count": 23,
   "metadata": {
    "ExecuteTime": {
     "end_time": "2020-01-13T09:14:35.922457Z",
     "start_time": "2020-01-13T09:14:35.917930Z"
    }
   },
   "outputs": [],
   "source": [
    "# Qiitaからタグ検索\n",
    "def tagSearch(w, pagesize=\"15\"):\n",
    "    options = Options()\n",
    "    options.add_argument('--headless')\n",
    "    driver = webdriver.Chrome(chrome_options=options)\n",
    "    driver.get('https://stackoverflow.com/questions/tagged/'+w+'?tab=newest&pagesize='+pagesize)\n",
    "    data = driver.page_source\n",
    "    html = BeautifulSoup(data, 'lxml')\n",
    "    driver.close()\n",
    "    driver.quit()\n",
    "    return html"
   ]
  },
  {
   "cell_type": "code",
   "execution_count": 29,
   "metadata": {
    "ExecuteTime": {
     "end_time": "2020-01-13T09:23:03.313344Z",
     "start_time": "2020-01-13T09:22:59.765474Z"
    }
   },
   "outputs": [],
   "source": [
    "html = tagSearch(\"ecmascript\", pagesize=\"50\")"
   ]
  },
  {
   "cell_type": "code",
   "execution_count": 35,
   "metadata": {
    "ExecuteTime": {
     "end_time": "2020-01-13T09:24:22.822346Z",
     "start_time": "2020-01-13T09:24:22.815432Z"
    }
   },
   "outputs": [
    {
     "data": {
      "text/plain": [
       "'[javascript]'"
      ]
     },
     "execution_count": 35,
     "metadata": {},
     "output_type": "execute_result"
    }
   ],
   "source": [
    "html.find(class_=\"s-input\")['value']"
   ]
  },
  {
   "cell_type": "code",
   "execution_count": 42,
   "metadata": {
    "ExecuteTime": {
     "end_time": "2020-01-13T10:21:04.834157Z",
     "start_time": "2020-01-13T09:29:39.082370Z"
    }
   },
   "outputs": [
    {
     "data": {
      "application/vnd.jupyter.widget-view+json": {
       "model_id": "25224655149e406390be2e8e51d575a9",
       "version_major": 2,
       "version_minor": 0
      },
      "text/plain": [
       "HBox(children=(IntProgress(value=0, max=66), HTML(value='')))"
      ]
     },
     "metadata": {},
     "output_type": "display_data"
    }
   ],
   "source": [
    "res_d = dict()\n",
    "\n",
    "for w in tqdm(set(words)):\n",
    "    res = []\n",
    "    html = tagSearch(w, pagesize=\"50\")\n",
    "    tag_list = html.find_all(class_=\"tags\")\n",
    "    flag = html.find(class_=\"s-input\")['value']\n",
    "    \n",
    "    if tag_list and flag[1:-1]==w:\n",
    "        for i in tag_list:\n",
    "            res += [[j.text.lower() for j in i.find_all(\"a\")]]\n",
    "            time.sleep(1.0)\n",
    "\n",
    "    res_d[w] = res"
   ]
  },
  {
   "cell_type": "code",
   "execution_count": 43,
   "metadata": {
    "ExecuteTime": {
     "end_time": "2020-01-13T10:21:05.117722Z",
     "start_time": "2020-01-13T10:21:05.113483Z"
    }
   },
   "outputs": [
    {
     "data": {
      "text/plain": [
       "dict_keys(['laravel', 'ecmascript', 'npm', 'redux', 'rstudio', 'phina.js', 'typescript', 'chrome-extension', 'pip', 'vuetify', 'd3.js', 'flask', 'html', 'scipy', 'scikit-learn', 'mruby', 'eslint', 'electron', 'nuxt.js', 'kivy', 'ruby', 'rspec', 'java', 'sass', 'reactnative', 'backbone.js', 'yarn', 'css', 'cakephp', 'beautifulsoup', 'react', 'promise', 'jquery', 'canvas', 'keras', 'ajax', 'webgl', 'coffeescript', 'rails', 'jupyter', 'pyqt', 'numpy', 'rbenv', 'php', 'three.js', 'node.js', 'r', 'javascript', 'vue.js', 'django', 'capybara', 'bootstrap', 'symfony', 'tkinter', 'next.js', 'angular', 'vuex', 'scss', 'webpack', 'javafx', 'pytorch', 'python', 'chainer', 'pyenv', 'spring', 'babel'])"
      ]
     },
     "execution_count": 43,
     "metadata": {},
     "output_type": "execute_result"
    }
   ],
   "source": [
    "res_d.keys()"
   ]
  },
  {
   "cell_type": "code",
   "execution_count": 44,
   "metadata": {
    "ExecuteTime": {
     "end_time": "2020-01-13T10:52:47.429263Z",
     "start_time": "2020-01-13T10:52:47.401747Z"
    }
   },
   "outputs": [],
   "source": [
    "with open('stack_overflow_results_data.json', 'w') as f:\n",
    "    json.dump(res_d, f)"
   ]
  },
  {
   "cell_type": "code",
   "execution_count": 45,
   "metadata": {
    "ExecuteTime": {
     "end_time": "2020-01-13T10:52:48.086390Z",
     "start_time": "2020-01-13T10:52:48.080080Z"
    }
   },
   "outputs": [],
   "source": [
    "with open('stack_overflow_results_data.json', 'r') as f:\n",
    "    read_res_d = json.load(f)"
   ]
  },
  {
   "cell_type": "code",
   "execution_count": 48,
   "metadata": {
    "ExecuteTime": {
     "end_time": "2020-01-13T10:52:59.954227Z",
     "start_time": "2020-01-13T10:52:59.949878Z"
    }
   },
   "outputs": [
    {
     "data": {
      "text/plain": [
       "[]"
      ]
     },
     "execution_count": 48,
     "metadata": {},
     "output_type": "execute_result"
    }
   ],
   "source": [
    "read_res_d[\"react\"]"
   ]
  },
  {
   "cell_type": "code",
   "execution_count": 67,
   "metadata": {
    "ExecuteTime": {
     "end_time": "2020-01-13T12:48:07.959045Z",
     "start_time": "2020-01-13T12:48:07.954241Z"
    },
    "scrolled": true
   },
   "outputs": [
    {
     "name": "stdout",
     "output_type": "stream",
     "text": [
      "9\n",
      "['ecmascript', 'phina.js', 'chrome-extension', 'vuetify', 'scss', 'react', 'rails', 'reactnative', 'bootstrap']\n"
     ]
    }
   ],
   "source": [
    "c = 0\n",
    "cl = []\n",
    "for r in read_res_d:\n",
    "    #print(len(read_res_d[r]))\n",
    "    if not read_res_d[r]:\n",
    "        c += 1\n",
    "        cl.append(r)\n",
    "        \n",
    "print(c)\n",
    "print(cl)"
   ]
  },
  {
   "cell_type": "code",
   "execution_count": null,
   "metadata": {},
   "outputs": [],
   "source": []
  },
  {
   "cell_type": "code",
   "execution_count": 50,
   "metadata": {
    "ExecuteTime": {
     "end_time": "2020-01-13T10:53:22.698922Z",
     "start_time": "2020-01-13T10:53:22.695528Z"
    }
   },
   "outputs": [],
   "source": [
    "# バージョンを表すテキストを削除\n",
    "def eraseVersion(w):\n",
    "    w = re.sub('(\\d+(?:\\.\\d+)?)$', '', w)\n",
    "    return w"
   ]
  },
  {
   "cell_type": "code",
   "execution_count": 51,
   "metadata": {
    "ExecuteTime": {
     "end_time": "2020-01-13T10:53:23.489905Z",
     "start_time": "2020-01-13T10:53:23.484088Z"
    }
   },
   "outputs": [],
   "source": [
    "# w2に対するw1のスコアを返す\n",
    "def check(w1, w2):\n",
    "    w1 = w1.lower()\n",
    "    w2 = w2.lower()\n",
    "    res = []\n",
    "    score = 0\n",
    "    count = 0\n",
    "        \n",
    "    # w1で検索した際にw2が含まれていたら1 それ以外は0\n",
    "    for i in read_res_d[w1]:\n",
    "        res += [[eraseVersion(j.lower())==w2 for j in i].count(True)]\n",
    "        count += 1\n",
    "    time.sleep(0.1)\n",
    "\n",
    "    # 検索結果が存在しない場合スコア0を返す\n",
    "    if len(res) == 0:\n",
    "        return 0\n",
    "\n",
    "    # w1で検索した時にw2が含まれる割合\n",
    "    score += ((len(res)-res.count(0))+1e-7)/(len(res)+1e-7)\n",
    "\n",
    "    # 1つのページの出現率が30%以下ならスコア0を返す\n",
    "    #if score/p < 0.2:\n",
    "    #    return 0\n",
    "    \n",
    "    #print(len(res)-res.count(0))\n",
    "        \n",
    "    return round(score, 3)"
   ]
  },
  {
   "cell_type": "code",
   "execution_count": 63,
   "metadata": {
    "ExecuteTime": {
     "end_time": "2020-01-13T12:06:08.836269Z",
     "start_time": "2020-01-13T12:06:08.830311Z"
    }
   },
   "outputs": [],
   "source": [
    "# 2つの単語を比較\n",
    "def comparisonCheck(w1, w2, boundary=0.2, p=True):\n",
    "    w1_score = check(w1, w2)\n",
    "    w1, w2 = w2, w1\n",
    "    w2_score = check(w1, w2)\n",
    "    w1, w2 = w2, w1\n",
    "    \n",
    "    if p:\n",
    "        print(w1, \"Dscore:\", w1_score)\n",
    "        print(w2, \"Dscore:\", w2_score)\n",
    "        \n",
    "    if (w1_score < boundary and w2_score < boundary) or (abs(w1_score-w2_score) < 0.1):\n",
    "        if p:\n",
    "            print(w1, \"and\", w2, \"are irrelevant\")\n",
    "        return {}\n",
    "    else:\n",
    "        if w1_score < w2_score:\n",
    "            if p:\n",
    "                print(\">>\", w1, \"is easy!\")\n",
    "            return {\"easy\": w1, \"hard\": w2, \"score\": max(w1_score, w2_score)}\n",
    "        else:\n",
    "            if p:\n",
    "                print(\">>\", w2, \"is easy!\")\n",
    "            return {\"easy\": w2, \"hard\": w1, \"score\": max(w1_score, w2_score)}"
   ]
  },
  {
   "cell_type": "code",
   "execution_count": 64,
   "metadata": {
    "ExecuteTime": {
     "end_time": "2020-01-13T12:06:09.470698Z",
     "start_time": "2020-01-13T12:06:09.252202Z"
    }
   },
   "outputs": [
    {
     "name": "stdout",
     "output_type": "stream",
     "text": [
      "javascript Dscore: 0.04\n",
      "vue.js Dscore: 0.28\n",
      ">> javascript is easy!\n"
     ]
    },
    {
     "data": {
      "text/plain": [
       "{'easy': 'javascript', 'hard': 'vue.js', 'score': 0.28}"
      ]
     },
     "execution_count": 64,
     "metadata": {},
     "output_type": "execute_result"
    }
   ],
   "source": [
    "comparisonCheck(\"javascript\", \"vue.js\")"
   ]
  },
  {
   "cell_type": "code",
   "execution_count": 66,
   "metadata": {
    "ExecuteTime": {
     "end_time": "2020-01-13T12:35:27.283165Z",
     "start_time": "2020-01-13T12:35:14.636567Z"
    }
   },
   "outputs": [
    {
     "data": {
      "application/vnd.jupyter.widget-view+json": {
       "model_id": "eaed2da3547541099f9fb05fc6dfc71f",
       "version_major": 2,
       "version_minor": 0
      },
      "text/plain": [
       "HBox(children=(IntProgress(value=0, max=60), HTML(value='')))"
      ]
     },
     "metadata": {},
     "output_type": "display_data"
    },
    {
     "name": "stdout",
     "output_type": "stream",
     "text": [
      "['javascript', 'react']\n",
      "['javascript', 'ecmascript']\n",
      "['javascript', 'chrome-extension']\n",
      "['javascript', 'phina.js']\n",
      "['javascript', 'npm']\n",
      "['javascript', 'yarn']\n",
      "['html', 'electron']\n",
      "['css', 'bootstrap']\n",
      "['css', 'scss']\n",
      "['vue.js', 'vuetify']\n",
      "['webgl', 'three.js']\n",
      "['react', 'redux']\n",
      "['react', 'next.js']\n",
      "['react', 'reactnative']\n",
      "['ruby', 'rails']\n",
      "0.75\n"
     ]
    }
   ],
   "source": [
    "correct = 0\n",
    "check_res = []\n",
    "\n",
    "for ds in tqdm(dataset):\n",
    "    \n",
    "    cr = comparisonCheck(ds[0], ds[1], p=False)\n",
    "    if cr:\n",
    "        if [cr[\"easy\"], cr[\"hard\"]] == [ds[0], ds[1]]:\n",
    "            correct += 1\n",
    "        else:\n",
    "            print([ds[0], ds[1]])\n",
    "    else:\n",
    "        print([ds[0], ds[1]])\n",
    "            \n",
    "print(correct/(len(dataset)))"
   ]
  },
  {
   "cell_type": "code",
   "execution_count": 68,
   "metadata": {
    "ExecuteTime": {
     "end_time": "2020-01-13T12:48:38.570037Z",
     "start_time": "2020-01-13T12:48:28.236809Z"
    }
   },
   "outputs": [
    {
     "data": {
      "application/vnd.jupyter.widget-view+json": {
       "model_id": "f1a613cc91ba4eeab0780d8648686f91",
       "version_major": 2,
       "version_minor": 0
      },
      "text/plain": [
       "HBox(children=(IntProgress(value=0, max=60), HTML(value='')))"
      ]
     },
     "metadata": {},
     "output_type": "display_data"
    },
    {
     "name": "stdout",
     "output_type": "stream",
     "text": [
      "['javascript', 'npm']\n",
      "['javascript', 'yarn']\n",
      "['html', 'electron']\n",
      "['webgl', 'three.js']\n",
      "0.9183673469387755\n"
     ]
    }
   ],
   "source": [
    "correct = 0\n",
    "count = 0\n",
    "check_res = []\n",
    "\n",
    "for ds in tqdm(dataset):\n",
    "    \n",
    "    if not (ds[0] in cl or ds[1] in cl):\n",
    "        cr = comparisonCheck(ds[0], ds[1], p=False)\n",
    "        if cr:\n",
    "            if [cr[\"easy\"], cr[\"hard\"]] == [ds[0], ds[1]]:\n",
    "                correct += 1\n",
    "            else:\n",
    "                print([ds[0], ds[1]])\n",
    "        else:\n",
    "            print([ds[0], ds[1]])\n",
    "        count += 1\n",
    "\n",
    "print(correct/count)"
   ]
  },
  {
   "cell_type": "code",
   "execution_count": 70,
   "metadata": {
    "ExecuteTime": {
     "end_time": "2020-01-26T12:20:02.558745Z",
     "start_time": "2020-01-26T12:20:02.550706Z"
    }
   },
   "outputs": [
    {
     "data": {
      "text/plain": [
       "(45, 49)"
      ]
     },
     "execution_count": 70,
     "metadata": {},
     "output_type": "execute_result"
    }
   ],
   "source": [
    "correct, count"
   ]
  },
  {
   "cell_type": "code",
   "execution_count": null,
   "metadata": {},
   "outputs": [],
   "source": []
  }
 ],
 "metadata": {
  "kernelspec": {
   "display_name": "Python 3",
   "language": "python",
   "name": "python3"
  },
  "language_info": {
   "codemirror_mode": {
    "name": "ipython",
    "version": 3
   },
   "file_extension": ".py",
   "mimetype": "text/x-python",
   "name": "python",
   "nbconvert_exporter": "python",
   "pygments_lexer": "ipython3",
   "version": "3.5.6"
  },
  "toc": {
   "base_numbering": 1,
   "nav_menu": {},
   "number_sections": true,
   "sideBar": true,
   "skip_h1_title": false,
   "title_cell": "Table of Contents",
   "title_sidebar": "Contents",
   "toc_cell": false,
   "toc_position": {},
   "toc_section_display": true,
   "toc_window_display": false
  },
  "varInspector": {
   "cols": {
    "lenName": 16,
    "lenType": 16,
    "lenVar": 40
   },
   "kernels_config": {
    "python": {
     "delete_cmd_postfix": "",
     "delete_cmd_prefix": "del ",
     "library": "var_list.py",
     "varRefreshCmd": "print(var_dic_list())"
    },
    "r": {
     "delete_cmd_postfix": ") ",
     "delete_cmd_prefix": "rm(",
     "library": "var_list.r",
     "varRefreshCmd": "cat(var_dic_list()) "
    }
   },
   "types_to_exclude": [
    "module",
    "function",
    "builtin_function_or_method",
    "instance",
    "_Feature"
   ],
   "window_display": false
  }
 },
 "nbformat": 4,
 "nbformat_minor": 2
}
