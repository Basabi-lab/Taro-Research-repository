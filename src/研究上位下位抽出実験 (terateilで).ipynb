{
 "cells": [
  {
   "cell_type": "code",
   "execution_count": 1,
   "metadata": {
    "ExecuteTime": {
     "end_time": "2020-01-10T08:34:06.461293Z",
     "start_time": "2020-01-10T08:34:06.452016Z"
    }
   },
   "outputs": [],
   "source": [
    "import json\n",
    "import csv\n",
    "from tqdm import tqdm_notebook as tqdm"
   ]
  },
  {
   "cell_type": "code",
   "execution_count": 2,
   "metadata": {
    "ExecuteTime": {
     "end_time": "2020-01-10T08:34:06.846056Z",
     "start_time": "2020-01-10T08:34:06.841446Z"
    }
   },
   "outputs": [],
   "source": [
    "words = []\n",
    "dataset = []\n",
    "with open(\"../datasets/dataset.csv\", \"r\") as f:\n",
    "    tags = csv.reader(f)\n",
    "    header = next(tags)\n",
    "    \n",
    "    for t in tags:\n",
    "        words += t\n",
    "        dataset += [t]"
   ]
  },
  {
   "cell_type": "code",
   "execution_count": 3,
   "metadata": {
    "ExecuteTime": {
     "end_time": "2020-01-10T08:34:07.324821Z",
     "start_time": "2020-01-10T08:34:07.312430Z"
    }
   },
   "outputs": [
    {
     "data": {
      "text/plain": [
       "66"
      ]
     },
     "execution_count": 3,
     "metadata": {},
     "output_type": "execute_result"
    }
   ],
   "source": [
    "len(set(words))"
   ]
  },
  {
   "cell_type": "code",
   "execution_count": 4,
   "metadata": {
    "ExecuteTime": {
     "end_time": "2020-01-10T08:34:07.918792Z",
     "start_time": "2020-01-10T08:34:07.775959Z"
    }
   },
   "outputs": [],
   "source": [
    "from selenium import webdriver\n",
    "from selenium.webdriver.chrome.options import Options\n",
    "from bs4 import BeautifulSoup\n",
    "import re\n",
    "import time"
   ]
  },
  {
   "cell_type": "code",
   "execution_count": 6,
   "metadata": {
    "ExecuteTime": {
     "end_time": "2020-01-10T08:34:08.700716Z",
     "start_time": "2020-01-10T08:34:08.695947Z"
    }
   },
   "outputs": [],
   "source": [
    "# Qiitaからタグ検索\n",
    "def tagSearch(w, page=\"1\"):\n",
    "    options = Options()\n",
    "    options.add_argument('--headless')\n",
    "    driver = webdriver.Chrome(chrome_options=options)\n",
    "    driver.get('https://teratail.com/tags/' + w + '/active/' + page)\n",
    "    data = driver.page_source\n",
    "    html = BeautifulSoup(data, 'lxml')\n",
    "    driver.close()\n",
    "    driver.quit()\n",
    "    return html"
   ]
  },
  {
   "cell_type": "code",
   "execution_count": null,
   "metadata": {
    "ExecuteTime": {
     "end_time": "2020-01-10T08:13:23.532566Z",
     "start_time": "2020-01-10T08:13:16.076327Z"
    },
    "scrolled": true
   },
   "outputs": [],
   "source": []
  },
  {
   "cell_type": "code",
   "execution_count": 7,
   "metadata": {
    "ExecuteTime": {
     "end_time": "2020-01-10T09:01:48.662625Z",
     "start_time": "2020-01-10T08:34:12.616860Z"
    },
    "scrolled": true
   },
   "outputs": [
    {
     "data": {
      "application/vnd.jupyter.widget-view+json": {
       "model_id": "aca4b0930aa941f8947a1e9322f6b4e0",
       "version_major": 2,
       "version_minor": 0
      },
      "text/plain": [
       "HBox(children=(IntProgress(value=0, max=66), HTML(value='')))"
      ]
     },
     "metadata": {},
     "output_type": "display_data"
    },
    {
     "name": "stdout",
     "output_type": "stream",
     "text": [
      "\n"
     ]
    }
   ],
   "source": [
    "res_d = dict()\n",
    "\n",
    "for w in tqdm(set(words)):\n",
    "    res = []\n",
    "    for p in range(1, 3):\n",
    "        tag_list = tagSearch(w, page=str(p)).find_all(class_=\"entry-tags boxTag j-questionTagsInQuestionsList p-questionFeedTagList\")\n",
    "        if tag_list:\n",
    "            for i in tag_list:\n",
    "                res += [[j.text.lower() for j in i.find_all(\"a\")]]\n",
    "                time.sleep(0.5)\n",
    "        else:\n",
    "            break\n",
    "    \n",
    "    res_d[w] = res"
   ]
  },
  {
   "cell_type": "code",
   "execution_count": 9,
   "metadata": {
    "ExecuteTime": {
     "end_time": "2020-01-13T07:41:52.461904Z",
     "start_time": "2020-01-13T07:41:52.456778Z"
    },
    "scrolled": true
   },
   "outputs": [
    {
     "data": {
      "text/plain": [
       "dict_keys(['phina.js', 'node.js', 'yarn', 'rbenv', 'ecmascript', 'vuetify', 'cakephp', 'bootstrap', 'nuxt.js', 'vuex', 'rstudio', 'beautifulsoup', 'r', 'scss', 'scikit-learn', 'jquery', 'ruby', 'kivy', 'rspec', 'promise', 'javascript', 'keras', 'css', 'three.js', 'webpack', 'mruby', 'd3.js', 'react', 'ajax', 'tkinter', 'symfony', 'spring', 'html', 'babel', 'pytorch', 'sass', 'reactnative', 'pyqt', 'next.js', 'eslint', 'pip', 'coffeescript', 'pyenv', 'capybara', 'jupyter', 'java', 'php', 'python', 'backbone.js', 'scipy', 'numpy', 'vue.js', 'canvas', 'typescript', 'npm', 'chrome-extension', 'chainer', 'flask', 'rails', 'angular', 'electron', 'javafx', 'webgl', 'django', 'redux', 'laravel'])"
      ]
     },
     "execution_count": 9,
     "metadata": {},
     "output_type": "execute_result"
    }
   ],
   "source": [
    "res_d.keys()"
   ]
  },
  {
   "cell_type": "code",
   "execution_count": 10,
   "metadata": {
    "ExecuteTime": {
     "end_time": "2020-01-13T07:42:13.472793Z",
     "start_time": "2020-01-13T07:42:13.451624Z"
    }
   },
   "outputs": [],
   "source": [
    "with open('terateil_results_data.json', 'w') as f:\n",
    "    json.dump(res_d, f)"
   ]
  },
  {
   "cell_type": "code",
   "execution_count": 11,
   "metadata": {
    "ExecuteTime": {
     "end_time": "2020-01-13T07:42:17.881282Z",
     "start_time": "2020-01-13T07:42:17.874762Z"
    }
   },
   "outputs": [],
   "source": [
    "with open('terateil_results_data.json', 'r') as f:\n",
    "    read_res_d = json.load(f)"
   ]
  },
  {
   "cell_type": "code",
   "execution_count": 26,
   "metadata": {
    "ExecuteTime": {
     "end_time": "2020-01-13T07:52:52.104764Z",
     "start_time": "2020-01-13T07:52:52.100083Z"
    }
   },
   "outputs": [
    {
     "data": {
      "text/plain": [
       "[]"
      ]
     },
     "execution_count": 26,
     "metadata": {},
     "output_type": "execute_result"
    }
   ],
   "source": [
    "read_res_d[\"react\"]"
   ]
  },
  {
   "cell_type": "markdown",
   "metadata": {},
   "source": [
    "## 存在しないタグの数と取得できたタグの数"
   ]
  },
  {
   "cell_type": "code",
   "execution_count": 37,
   "metadata": {
    "ExecuteTime": {
     "end_time": "2020-01-13T12:38:41.742282Z",
     "start_time": "2020-01-13T12:38:41.737805Z"
    },
    "scrolled": true
   },
   "outputs": [
    {
     "name": "stdout",
     "output_type": "stream",
     "text": [
      "13\n",
      "['phina.js', 'vuetify', 'scss', 'beautifulsoup', 'rstudio', 'promise', 'mruby', 'react', 'rails', 'chrome-extension', 'reactnative', 'pyenv', 'scipy']\n"
     ]
    }
   ],
   "source": [
    "c = 0\n",
    "cl = []\n",
    "for r in read_res_d:\n",
    "    #print(len(read_res_d[r]))\n",
    "    if not read_res_d[r]:\n",
    "        c += 1\n",
    "        cl.append(r)\n",
    "        \n",
    "print(c)\n",
    "print(cl)"
   ]
  },
  {
   "cell_type": "code",
   "execution_count": null,
   "metadata": {
    "ExecuteTime": {
     "end_time": "2020-01-10T02:05:20.479716Z",
     "start_time": "2020-01-10T02:05:20.474818Z"
    }
   },
   "outputs": [],
   "source": []
  },
  {
   "cell_type": "code",
   "execution_count": 21,
   "metadata": {
    "ExecuteTime": {
     "end_time": "2020-01-13T07:48:58.838415Z",
     "start_time": "2020-01-13T07:48:58.835013Z"
    }
   },
   "outputs": [],
   "source": [
    "# バージョンを表すテキストを削除\n",
    "def eraseVersion(w):\n",
    "    w = re.sub('(\\d+(?:\\.\\d+)?)$', '', w)\n",
    "    return w"
   ]
  },
  {
   "cell_type": "code",
   "execution_count": 15,
   "metadata": {
    "ExecuteTime": {
     "end_time": "2020-01-13T07:42:37.488900Z",
     "start_time": "2020-01-13T07:42:37.482994Z"
    }
   },
   "outputs": [],
   "source": [
    "# w2に対するw1のスコアを返す\n",
    "def check(w1, w2):\n",
    "    w1 = w1.lower()\n",
    "    w2 = w2.lower()\n",
    "    res = []\n",
    "    score = 0\n",
    "    count = 0\n",
    "        \n",
    "    # w1で検索した際にw2が含まれていたら1 それ以外は0\n",
    "    for i in read_res_d[w1]:\n",
    "        res += [[eraseVersion(j.lower())==w2 for j in i].count(True)]\n",
    "        count += 1\n",
    "    time.sleep(0.1)\n",
    "\n",
    "    # 検索結果が存在しない場合スコア0を返す\n",
    "    if len(res) == 0:\n",
    "        return 0\n",
    "\n",
    "    # w1で検索した時にw2が含まれる割合\n",
    "    score += ((len(res)-res.count(0))+1e-7)/(len(res)+1e-7)\n",
    "\n",
    "    # 1つのページの出現率が30%以下ならスコア0を返す\n",
    "    #if score/p < 0.2:\n",
    "    #    return 0\n",
    "    \n",
    "    #print(len(res)-res.count(0))\n",
    "        \n",
    "    return round(score, 3)"
   ]
  },
  {
   "cell_type": "code",
   "execution_count": 32,
   "metadata": {
    "ExecuteTime": {
     "end_time": "2020-01-13T12:06:34.141617Z",
     "start_time": "2020-01-13T12:06:34.135825Z"
    }
   },
   "outputs": [],
   "source": [
    "# 2つの単語を比較\n",
    "def comparisonCheck(w1, w2, boundary=0.2, p=True):\n",
    "    w1_score = check(w1, w2)\n",
    "    w1, w2 = w2, w1\n",
    "    w2_score = check(w1, w2)\n",
    "    w1, w2 = w2, w1\n",
    "    \n",
    "    if p:\n",
    "        print(w1, \"Dscore:\", w1_score)\n",
    "        print(w2, \"Dscore:\", w2_score)\n",
    "        \n",
    "    if (w1_score < boundary and w2_score < boundary) or (abs(w1_score-w2_score) < 0.1):\n",
    "        if p:\n",
    "            print(w1, \"and\", w2, \"are irrelevant\")\n",
    "        return {}\n",
    "    else:\n",
    "        if w1_score < w2_score:\n",
    "            if p:\n",
    "                print(\">>\", w1, \"is easy!\")\n",
    "            return {\"easy\": w1, \"hard\": w2, \"score\": max(w1_score, w2_score)}\n",
    "        else:\n",
    "            if p:\n",
    "                print(\">>\", w2, \"is easy!\")\n",
    "            return {\"easy\": w2, \"hard\": w1, \"score\": max(w1_score, w2_score)}"
   ]
  },
  {
   "cell_type": "code",
   "execution_count": 33,
   "metadata": {
    "ExecuteTime": {
     "end_time": "2020-01-13T12:06:35.118063Z",
     "start_time": "2020-01-13T12:06:34.909722Z"
    }
   },
   "outputs": [
    {
     "name": "stdout",
     "output_type": "stream",
     "text": [
      "javascript Dscore: 0.375\n",
      "html Dscore: 0.425\n",
      "javascript and html are irrelevant\n"
     ]
    },
    {
     "data": {
      "text/plain": [
       "{}"
      ]
     },
     "execution_count": 33,
     "metadata": {},
     "output_type": "execute_result"
    }
   ],
   "source": [
    "comparisonCheck(\"javascript\", \"html\")"
   ]
  },
  {
   "cell_type": "code",
   "execution_count": 19,
   "metadata": {
    "ExecuteTime": {
     "end_time": "2020-01-13T07:43:59.295134Z",
     "start_time": "2020-01-13T07:43:59.290796Z"
    }
   },
   "outputs": [
    {
     "data": {
      "text/plain": [
       "60"
      ]
     },
     "execution_count": 19,
     "metadata": {},
     "output_type": "execute_result"
    }
   ],
   "source": [
    "len(dataset)"
   ]
  },
  {
   "cell_type": "code",
   "execution_count": 36,
   "metadata": {
    "ExecuteTime": {
     "end_time": "2020-01-13T12:35:23.746741Z",
     "start_time": "2020-01-13T12:35:11.116738Z"
    },
    "scrolled": false
   },
   "outputs": [
    {
     "data": {
      "application/vnd.jupyter.widget-view+json": {
       "model_id": "38a549fb67be469faa5ac5f4fe0ae90b",
       "version_major": 2,
       "version_minor": 0
      },
      "text/plain": [
       "HBox(children=(IntProgress(value=0, max=60), HTML(value='')))"
      ]
     },
     "metadata": {},
     "output_type": "display_data"
    },
    {
     "name": "stdout",
     "output_type": "stream",
     "text": [
      "['javascript', 'react']\n",
      "['javascript', 'promise']\n",
      "['javascript', 'chrome-extension']\n",
      "['javascript', 'phina.js']\n",
      "['javascript', 'npm']\n",
      "['html', 'electron']\n",
      "['css', 'scss']\n",
      "['vue.js', 'vuetify']\n",
      "['webgl', 'three.js']\n",
      "['react', 'redux']\n",
      "['react', 'next.js']\n",
      "['react', 'reactnative']\n",
      "['ruby', 'rails']\n",
      "['ruby', 'mruby']\n",
      "['python', 'pyenv']\n",
      "['python', 'scipy']\n",
      "['python', 'beautifulsoup']\n",
      "['r', 'rstudio']\n",
      "\n",
      "0.7\n"
     ]
    }
   ],
   "source": [
    "correct = 0\n",
    "check_res = []\n",
    "\n",
    "for ds in tqdm(dataset):\n",
    "    \n",
    "    cr = comparisonCheck(ds[0], ds[1], p=False)\n",
    "    if cr:\n",
    "        if [cr[\"easy\"], cr[\"hard\"]] == [ds[0], ds[1]]:\n",
    "            correct += 1\n",
    "        else:\n",
    "            print([ds[0], ds[1]])\n",
    "    else:\n",
    "        print([ds[0], ds[1]])\n",
    "            \n",
    "print(correct/(len(dataset)))"
   ]
  },
  {
   "cell_type": "markdown",
   "metadata": {},
   "source": [
    "## 存在しないデータを除いた場合"
   ]
  },
  {
   "cell_type": "code",
   "execution_count": 44,
   "metadata": {
    "ExecuteTime": {
     "end_time": "2020-01-13T12:47:42.215131Z",
     "start_time": "2020-01-13T12:47:32.762449Z"
    }
   },
   "outputs": [
    {
     "data": {
      "application/vnd.jupyter.widget-view+json": {
       "model_id": "1fe56d2e3a1a41ab80052e067ed2af76",
       "version_major": 2,
       "version_minor": 0
      },
      "text/plain": [
       "HBox(children=(IntProgress(value=0, max=60), HTML(value='')))"
      ]
     },
     "metadata": {},
     "output_type": "display_data"
    },
    {
     "name": "stdout",
     "output_type": "stream",
     "text": [
      "['javascript', 'npm']\n",
      "['html', 'electron']\n",
      "['webgl', 'three.js']\n",
      "\n",
      "0.9333333333333333\n"
     ]
    }
   ],
   "source": [
    "correct = 0\n",
    "count = 0\n",
    "check_res = []\n",
    "\n",
    "for ds in tqdm(dataset):\n",
    "    \n",
    "    if not (ds[0] in cl or ds[1] in cl):\n",
    "        cr = comparisonCheck(ds[0], ds[1], p=False)\n",
    "        if cr:\n",
    "            if [cr[\"easy\"], cr[\"hard\"]] == [ds[0], ds[1]]:\n",
    "                correct += 1\n",
    "            else:\n",
    "                print([ds[0], ds[1]])\n",
    "        else:\n",
    "            print([ds[0], ds[1]])\n",
    "        count += 1\n",
    "\n",
    "print(correct/count)"
   ]
  },
  {
   "cell_type": "code",
   "execution_count": 46,
   "metadata": {
    "ExecuteTime": {
     "end_time": "2020-01-26T12:19:46.969109Z",
     "start_time": "2020-01-26T12:19:46.952929Z"
    }
   },
   "outputs": [
    {
     "data": {
      "text/plain": [
       "(42, 45)"
      ]
     },
     "execution_count": 46,
     "metadata": {},
     "output_type": "execute_result"
    }
   ],
   "source": [
    "correct, count"
   ]
  },
  {
   "cell_type": "code",
   "execution_count": null,
   "metadata": {},
   "outputs": [],
   "source": []
  }
 ],
 "metadata": {
  "kernelspec": {
   "display_name": "Python 3",
   "language": "python",
   "name": "python3"
  },
  "language_info": {
   "codemirror_mode": {
    "name": "ipython",
    "version": 3
   },
   "file_extension": ".py",
   "mimetype": "text/x-python",
   "name": "python",
   "nbconvert_exporter": "python",
   "pygments_lexer": "ipython3",
   "version": "3.5.6"
  },
  "toc": {
   "base_numbering": 1,
   "nav_menu": {},
   "number_sections": true,
   "sideBar": true,
   "skip_h1_title": false,
   "title_cell": "Table of Contents",
   "title_sidebar": "Contents",
   "toc_cell": false,
   "toc_position": {},
   "toc_section_display": true,
   "toc_window_display": false
  },
  "varInspector": {
   "cols": {
    "lenName": 16,
    "lenType": 16,
    "lenVar": 40
   },
   "kernels_config": {
    "python": {
     "delete_cmd_postfix": "",
     "delete_cmd_prefix": "del ",
     "library": "var_list.py",
     "varRefreshCmd": "print(var_dic_list())"
    },
    "r": {
     "delete_cmd_postfix": ") ",
     "delete_cmd_prefix": "rm(",
     "library": "var_list.r",
     "varRefreshCmd": "cat(var_dic_list()) "
    }
   },
   "types_to_exclude": [
    "module",
    "function",
    "builtin_function_or_method",
    "instance",
    "_Feature"
   ],
   "window_display": false
  }
 },
 "nbformat": 4,
 "nbformat_minor": 2
}
