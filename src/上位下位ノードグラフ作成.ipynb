{
 "cells": [
  {
   "cell_type": "code",
   "execution_count": 69,
   "metadata": {
    "ExecuteTime": {
     "end_time": "2019-12-01T18:35:41.411967Z",
     "start_time": "2019-12-01T18:35:41.376236Z"
    }
   },
   "outputs": [],
   "source": [
    "import networkx as nx\n",
    "import matplotlib.pyplot as plt\n",
    "from inspect import signature"
   ]
  },
  {
   "cell_type": "code",
   "execution_count": 80,
   "metadata": {
    "ExecuteTime": {
     "end_time": "2019-12-01T18:54:03.348417Z",
     "start_time": "2019-12-01T18:54:03.335996Z"
    }
   },
   "outputs": [],
   "source": [
    "with open(\"js_format_easy_hard.csv\", \"r\") as f:\n",
    "    res = [eval(i) for i in f.read().split(\"\\n\")]"
   ]
  },
  {
   "cell_type": "code",
   "execution_count": 81,
   "metadata": {
    "ExecuteTime": {
     "end_time": "2019-12-01T18:54:03.679763Z",
     "start_time": "2019-12-01T18:54:03.674421Z"
    }
   },
   "outputs": [
    {
     "data": {
      "text/plain": [
       "<Signature (G, edgelabel=None, prog='dot', args='', suffix='', path=None)>"
      ]
     },
     "execution_count": 81,
     "metadata": {},
     "output_type": "execute_result"
    }
   ],
   "source": [
    "signature(nx.nx_agraph.view_pygraphviz)"
   ]
  },
  {
   "cell_type": "code",
   "execution_count": 82,
   "metadata": {
    "ExecuteTime": {
     "end_time": "2019-12-01T18:54:03.995178Z",
     "start_time": "2019-12-01T18:54:03.989789Z"
    },
    "scrolled": true
   },
   "outputs": [
    {
     "data": {
      "text/plain": [
       "<Signature (G_to_add_to, nodes_for_path, **attr)>"
      ]
     },
     "execution_count": 82,
     "metadata": {},
     "output_type": "execute_result"
    }
   ],
   "source": [
    "signature(nx.add_path)"
   ]
  },
  {
   "cell_type": "code",
   "execution_count": 83,
   "metadata": {
    "ExecuteTime": {
     "end_time": "2019-12-01T18:54:04.837548Z",
     "start_time": "2019-12-01T18:54:04.605000Z"
    }
   },
   "outputs": [
    {
     "data": {
      "text/plain": [
       "('/var/folders/s7/1c5zkwyd6yz29kz5zgf0w61m0000gn/T/tmp5doemd86.png',\n",
       " <AGraph <Swig Object of type 'Agraph_t *' at 0xa1be9ae10>>)"
      ]
     },
     "execution_count": 83,
     "metadata": {},
     "output_type": "execute_result"
    }
   ],
   "source": [
    "G = nx.DiGraph()\n",
    "for r in res:\n",
    "    nx.add_path(G, [r[\"easy\"], r[\"hard\"]], weight=r[\"score\"])\n",
    "\n",
    "nx.nx_agraph.view_pygraphviz(G, prog='fdp', edgelabel=\"weight\")"
   ]
  },
  {
   "cell_type": "code",
   "execution_count": 37,
   "metadata": {
    "ExecuteTime": {
     "end_time": "2019-11-26T05:54:33.786414Z",
     "start_time": "2019-11-26T05:54:33.780821Z"
    }
   },
   "outputs": [
    {
     "data": {
      "text/plain": [
       "OutEdgeView([('自然言語処理', 'nlp'), ('機械学習', '強化学習'), ('機械学習', 'chainer'), ('機械学習', '人工知能'), ('機械学習', 'ディープラーニング'), ('機械学習', 'ai'), ('機械学習', 'deeplearning'), ('機械学習', '画像認識'), ('機械学習', '論文読み'), ('機械学習', 'machinelearning'), ('機械学習', 'ニューラルネットワーク'), ('機械学習', 'scikit-learn'), ('deeplearning', '強化学習'), ('deeplearning', 'chainer'), ('deeplearning', 'cnn'), ('deeplearning', 'pytorch'), ('deeplearning', 'keras'), ('deeplearning', '深層学習'), ('deeplearning', '論文読み'), ('python', 'chainer'), ('python', '自然言語処理'), ('python', 'numpy'), ('python', 'anaconda'), ('python', 'kaggle'), ('python', 'scikit-learn'), ('python', 'pyenv'), ('python', 'pip'), ('python', '機械学習'), ('python', 'pandas'), ('python', 'deeplearning'), ('python', 'flask'), ('python', '統計学'), ('python', 'ディープラーニング'), ('python', 'matplotlib'), ('python', 'mecab'), ('python', 'pycharm'), ('python', 'keras'), ('python', 'jupyter'), ('python', 'django'), ('python', 'opencv'), ('python', 'pytorch')])"
      ]
     },
     "execution_count": 37,
     "metadata": {},
     "output_type": "execute_result"
    }
   ],
   "source": [
    "G.edges()"
   ]
  },
  {
   "cell_type": "markdown",
   "metadata": {},
   "source": [
    "# 「PyTorch」の学習に必要なもの"
   ]
  },
  {
   "cell_type": "code",
   "execution_count": 59,
   "metadata": {
    "ExecuteTime": {
     "end_time": "2019-11-26T08:04:50.302743Z",
     "start_time": "2019-11-26T08:04:50.296019Z"
    },
    "scrolled": true
   },
   "outputs": [
    {
     "data": {
      "text/plain": [
       "{'deeplearning': ['deeplearning', 'pytorch'],\n",
       " 'python': ['python', 'pytorch'],\n",
       " 'pytorch': ['pytorch'],\n",
       " '機械学習': ['機械学習', 'deeplearning', 'pytorch']}"
      ]
     },
     "execution_count": 59,
     "metadata": {},
     "output_type": "execute_result"
    }
   ],
   "source": [
    "nx.single_target_shortest_path(G, target=\"pytorch\")"
   ]
  },
  {
   "cell_type": "code",
   "execution_count": 67,
   "metadata": {
    "ExecuteTime": {
     "end_time": "2019-11-26T08:09:08.446536Z",
     "start_time": "2019-11-26T08:09:08.441594Z"
    }
   },
   "outputs": [
    {
     "data": {
      "text/plain": [
       "networkx.classes.multidigraph.MultiDiGraph"
      ]
     },
     "execution_count": 67,
     "metadata": {},
     "output_type": "execute_result"
    }
   ],
   "source": [
    "nx."
   ]
  },
  {
   "cell_type": "code",
   "execution_count": 60,
   "metadata": {
    "ExecuteTime": {
     "end_time": "2019-11-26T08:06:25.892440Z",
     "start_time": "2019-11-26T08:06:25.885650Z"
    }
   },
   "outputs": [
    {
     "name": "stdout",
     "output_type": "stream",
     "text": [
      "['python', '機械学習', 'deeplearning', 'pytorch']\n",
      "['python', 'deeplearning', 'pytorch']\n",
      "['python', 'pytorch']\n",
      "['deeplearning', 'pytorch']\n"
     ]
    }
   ],
   "source": [
    "for r in res:\n",
    "    if r[\"hard\"]==\"pytorch\":\n",
    "        for path in nx.all_simple_paths(G, source=r[\"easy\"], target='pytorch'):\n",
    "            print(path)"
   ]
  },
  {
   "cell_type": "markdown",
   "metadata": {},
   "source": [
    "# 「機械学習」の応用"
   ]
  },
  {
   "cell_type": "code",
   "execution_count": 58,
   "metadata": {
    "ExecuteTime": {
     "end_time": "2019-11-26T08:02:51.406251Z",
     "start_time": "2019-11-26T08:02:51.399316Z"
    }
   },
   "outputs": [
    {
     "name": "stdout",
     "output_type": "stream",
     "text": [
      "[ scikit-learn ]\n",
      "['機械学習', 'scikit-learn']\n",
      "\n",
      "[ chainer ]\n",
      "['機械学習', 'chainer']\n",
      "['機械学習', 'deeplearning', 'chainer']\n",
      "\n",
      "[ machinelearning ]\n",
      "['機械学習', 'machinelearning']\n",
      "\n",
      "[ ニューラルネットワーク ]\n",
      "['機械学習', 'ニューラルネットワーク']\n",
      "\n",
      "[ deeplearning ]\n",
      "['機械学習', 'deeplearning']\n",
      "\n",
      "[ 強化学習 ]\n",
      "['機械学習', '強化学習']\n",
      "['機械学習', 'deeplearning', '強化学習']\n",
      "\n",
      "[ ai ]\n",
      "['機械学習', 'ai']\n",
      "\n",
      "[ 論文読み ]\n",
      "['機械学習', 'deeplearning', '論文読み']\n",
      "['機械学習', '論文読み']\n",
      "\n",
      "[ 人工知能 ]\n",
      "['機械学習', '人工知能']\n",
      "\n",
      "[ ディープラーニング ]\n",
      "['機械学習', 'ディープラーニング']\n",
      "\n",
      "[ 画像認識 ]\n",
      "['機械学習', '画像認識']\n",
      "\n"
     ]
    }
   ],
   "source": [
    "for r in res:\n",
    "    if r[\"easy\"]==\"機械学習\":\n",
    "        print('[ {} ]'.format(r[\"hard\"]))\n",
    "        for path in nx.all_simple_paths(G, source=\"機械学習\", target=r[\"hard\"]):\n",
    "            print(path)\n",
    "        print()"
   ]
  },
  {
   "cell_type": "code",
   "execution_count": null,
   "metadata": {},
   "outputs": [],
   "source": []
  }
 ],
 "metadata": {
  "kernelspec": {
   "display_name": "Python 3",
   "language": "python",
   "name": "python3"
  },
  "language_info": {
   "codemirror_mode": {
    "name": "ipython",
    "version": 3
   },
   "file_extension": ".py",
   "mimetype": "text/x-python",
   "name": "python",
   "nbconvert_exporter": "python",
   "pygments_lexer": "ipython3",
   "version": "3.5.6"
  },
  "toc": {
   "base_numbering": 1,
   "nav_menu": {},
   "number_sections": true,
   "sideBar": true,
   "skip_h1_title": false,
   "title_cell": "Table of Contents",
   "title_sidebar": "Contents",
   "toc_cell": false,
   "toc_position": {},
   "toc_section_display": true,
   "toc_window_display": false
  },
  "varInspector": {
   "cols": {
    "lenName": 16,
    "lenType": 16,
    "lenVar": 40
   },
   "kernels_config": {
    "python": {
     "delete_cmd_postfix": "",
     "delete_cmd_prefix": "del ",
     "library": "var_list.py",
     "varRefreshCmd": "print(var_dic_list())"
    },
    "r": {
     "delete_cmd_postfix": ") ",
     "delete_cmd_prefix": "rm(",
     "library": "var_list.r",
     "varRefreshCmd": "cat(var_dic_list()) "
    }
   },
   "types_to_exclude": [
    "module",
    "function",
    "builtin_function_or_method",
    "instance",
    "_Feature"
   ],
   "window_display": false
  }
 },
 "nbformat": 4,
 "nbformat_minor": 2
}
